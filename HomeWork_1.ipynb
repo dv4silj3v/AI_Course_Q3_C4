{
 "cells": [
  {
   "cell_type": "code",
   "execution_count": 1,
   "metadata": {
    "colab": {},
    "colab_type": "code",
    "id": "ak8b3KV45kVW"
   },
   "outputs": [],
   "source": [
    "import numpy as np\n",
    "import matplotlib.pyplot as plt"
   ]
  },
  {
   "cell_type": "code",
   "execution_count": 2,
   "metadata": {
    "colab": {},
    "colab_type": "code",
    "id": "i77tZbAd5plB"
   },
   "outputs": [],
   "source": [
    "X = np.array([[1, 1, 1, 1, 1, 1, 1, 1, 1, 1],\n",
    "              [1, 1, 2, 1, 3, 0, 5, 10, 1, 2]])"
   ]
  },
  {
   "cell_type": "code",
   "execution_count": 3,
   "metadata": {
    "colab": {
     "base_uri": "https://localhost:8080/",
     "height": 52
    },
    "colab_type": "code",
    "id": "U3vVuLOc6Us6",
    "outputId": "c82f208a-0d9c-460a-96c8-24ab0a036e9d"
   },
   "outputs": [
    {
     "data": {
      "text/plain": [
       "array([[ 1,  1,  1,  1,  1,  1,  1,  1,  1,  1],\n",
       "       [ 1,  1,  2,  1,  3,  0,  5, 10,  1,  2]])"
      ]
     },
     "execution_count": 3,
     "metadata": {},
     "output_type": "execute_result"
    }
   ],
   "source": [
    "X"
   ]
  },
  {
   "cell_type": "code",
   "execution_count": 4,
   "metadata": {
    "colab": {},
    "colab_type": "code",
    "id": "VsNrKi1Q6Wmh"
   },
   "outputs": [],
   "source": [
    "y = [45, 55, 50, 59, 65, 35, 75, 80, 50, 60]"
   ]
  },
  {
   "cell_type": "code",
   "execution_count": 5,
   "metadata": {
    "colab": {
     "base_uri": "https://localhost:8080/",
     "height": 283
    },
    "colab_type": "code",
    "id": "ejifaMBe6VaP",
    "outputId": "0af4e70a-5164-4c12-f35f-1c065d4b80c1"
   },
   "outputs": [
    {
     "data": {
      "text/plain": [
       "[<matplotlib.lines.Line2D at 0x7fc3d5be9050>]"
      ]
     },
     "execution_count": 5,
     "metadata": {},
     "output_type": "execute_result"
    },
    {
     "data": {
      "image/png": "[encoded data removed]",
      "text/plain": [
       "<Figure size 432x288 with 1 Axes>"
      ]
     },
     "metadata": {
      "needs_background": "light"
     },
     "output_type": "display_data"
    }
   ],
   "source": [
    "plt.scatter(X[1,:], y)\n",
    "plt.plot(X[1,:], 50 + 4*X[1,:])"
   ]
  },
  {
   "cell_type": "code",
   "execution_count": 6,
   "metadata": {
    "colab": {
     "base_uri": "https://localhost:8080/",
     "height": 283
    },
    "colab_type": "code",
    "id": "OTikrodr6n-i",
    "outputId": "3e8a4b8e-6cfe-49eb-8963-2bf9170f9a49"
   },
   "outputs": [
    {
     "data": {
      "text/plain": [
       "[<matplotlib.lines.Line2D at 0x7fc3aaadd410>]"
      ]
     },
     "execution_count": 6,
     "metadata": {},
     "output_type": "execute_result"
    },
    {
     "data": {
      "image/png": "[encoded data removed]",
      "text/plain": [
       "<Figure size 432x288 with 1 Axes>"
      ]
     },
     "metadata": {
      "needs_background": "light"
     },
     "output_type": "display_data"
    }
   ],
   "source": [
    "plt.scatter(X[1], y)\n",
    "plt.plot(X[1], 35*np.ones(10) + X[1]*5)\n",
    "plt.plot(X[1], 40*np.ones(10) + X[1]*7.5)"
   ]
  },
  {
   "cell_type": "code",
   "execution_count": 7,
   "metadata": {
    "colab": {},
    "colab_type": "code",
    "id": "NntLxvtU7CbH"
   },
   "outputs": [],
   "source": [
    "y_pred1 = 35*np.ones(10) + X[1]*5\n",
    "y_pred2 = 40*np.ones(10) + X[1]*7.5"
   ]
  },
  {
   "cell_type": "code",
   "execution_count": 8,
   "metadata": {
    "colab": {
     "base_uri": "https://localhost:8080/",
     "height": 52
    },
    "colab_type": "code",
    "id": "XsDNASCq9VBe",
    "outputId": "205674a3-5567-4805-fdfe-27211a7ee87c"
   },
   "outputs": [
    {
     "data": {
      "text/plain": [
       "array([ 47.5,  47.5,  55. ,  47.5,  62.5,  40. ,  77.5, 115. ,  47.5,\n",
       "        55. ])"
      ]
     },
     "execution_count": 8,
     "metadata": {},
     "output_type": "execute_result"
    }
   ],
   "source": [
    "y_pred2"
   ]
  },
  {
   "cell_type": "code",
   "execution_count": 9,
   "metadata": {
    "colab": {},
    "colab_type": "code",
    "id": "zbsqjAxH9WqI"
   },
   "outputs": [],
   "source": [
    "err1 = np.mean(y - y_pred1)\n",
    "err2 = np.mean(y - y_pred2)"
   ]
  },
  {
   "cell_type": "code",
   "execution_count": 10,
   "metadata": {
    "colab": {
     "base_uri": "https://localhost:8080/",
     "height": 34
    },
    "colab_type": "code",
    "id": "Axgh3H5y9dgg",
    "outputId": "a8c6f684-c837-4172-b133-9898c83e9422"
   },
   "outputs": [
    {
     "data": {
      "text/plain": [
       "(9.4, -2.1)"
      ]
     },
     "execution_count": 10,
     "metadata": {},
     "output_type": "execute_result"
    }
   ],
   "source": [
    "err1, err2"
   ]
  },
  {
   "cell_type": "code",
   "execution_count": 11,
   "metadata": {
    "colab": {},
    "colab_type": "code",
    "id": "vUqCthPf9eYI"
   },
   "outputs": [],
   "source": [
    "mae_1 = np.mean(np.abs(y - y_pred1))\n",
    "mae_2 = np.mean(np.abs(y - y_pred2))"
   ]
  },
  {
   "cell_type": "code",
   "execution_count": 12,
   "metadata": {
    "colab": {
     "base_uri": "https://localhost:8080/",
     "height": 34
    },
    "colab_type": "code",
    "id": "AmiioF1Y_CUu",
    "outputId": "88c36476-2401-4198-f54d-41c44ffb6a61"
   },
   "outputs": [
    {
     "data": {
      "text/plain": [
       "(10.4, 7.9)"
      ]
     },
     "execution_count": 12,
     "metadata": {},
     "output_type": "execute_result"
    }
   ],
   "source": [
    "mae_1, mae_2"
   ]
  },
  {
   "cell_type": "code",
   "execution_count": 13,
   "metadata": {
    "colab": {},
    "colab_type": "code",
    "id": "XTn2bZIg_EBS"
   },
   "outputs": [],
   "source": [
    "mse_1 = np.mean((y - y_pred1)**2)\n",
    "mse_2 = np.mean((y - y_pred2)**2)"
   ]
  },
  {
   "cell_type": "code",
   "execution_count": 14,
   "metadata": {
    "colab": {
     "base_uri": "https://localhost:8080/",
     "height": 34
    },
    "colab_type": "code",
    "id": "IB1ltZNE_gCI",
    "outputId": "6b5c1307-38fb-4a1e-d479-6adb925ed796"
   },
   "outputs": [
    {
     "data": {
      "text/plain": [
       "(143.6, 151.35)"
      ]
     },
     "execution_count": 14,
     "metadata": {},
     "output_type": "execute_result"
    }
   ],
   "source": [
    "mse_1, mse_2"
   ]
  },
  {
   "cell_type": "markdown",
   "metadata": {
    "colab_type": "text",
    "id": "R4zHyZ2Da5HV"
   },
   "source": [
    "Метод наименьших квадратов"
   ]
  },
  {
   "cell_type": "code",
   "execution_count": 15,
   "metadata": {
    "colab": {
     "base_uri": "https://localhost:8080/",
     "height": 34
    },
    "colab_type": "code",
    "id": "GEeiext0BR1m",
    "outputId": "0decd1d1-384b-45ab-c63a-87013abc78eb"
   },
   "outputs": [
    {
     "data": {
      "text/plain": [
       "(2, 10)"
      ]
     },
     "execution_count": 15,
     "metadata": {},
     "output_type": "execute_result"
    }
   ],
   "source": [
    "X.shape"
   ]
  },
  {
   "cell_type": "code",
   "execution_count": 16,
   "metadata": {
    "colab": {
     "base_uri": "https://localhost:8080/",
     "height": 34
    },
    "colab_type": "code",
    "id": "j1BN1FZHBVo8",
    "outputId": "00ffcab8-b938-431f-cf87-68ef099c7bc1"
   },
   "outputs": [
    {
     "data": {
      "text/plain": [
       "(10, 2)"
      ]
     },
     "execution_count": 16,
     "metadata": {},
     "output_type": "execute_result"
    }
   ],
   "source": [
    "X.T.shape"
   ]
  },
  {
   "cell_type": "code",
   "execution_count": 17,
   "metadata": {
    "colab": {
     "base_uri": "https://localhost:8080/",
     "height": 34
    },
    "colab_type": "code",
    "id": "mnyZzkaDBegD",
    "outputId": "368800a6-deef-46d0-b27f-d6eb5e46a743"
   },
   "outputs": [
    {
     "data": {
      "text/plain": [
       "array([47.23214286,  3.91071429])"
      ]
     },
     "execution_count": 17,
     "metadata": {},
     "output_type": "execute_result"
    }
   ],
   "source": [
    "W = np.linalg.inv(np.dot(X, X.T)) @ X @ y\n",
    "W"
   ]
  },
  {
   "cell_type": "code",
   "execution_count": 18,
   "metadata": {
    "colab": {
     "base_uri": "https://localhost:8080/",
     "height": 282
    },
    "colab_type": "code",
    "id": "Lyg-J3H7Bnv5",
    "outputId": "7701dd28-d123-4773-cd1f-1439abfb6d90"
   },
   "outputs": [
    {
     "data": {
      "text/plain": [
       "[<matplotlib.lines.Line2D at 0x7fc3aa9f7290>]"
      ]
     },
     "execution_count": 18,
     "metadata": {},
     "output_type": "execute_result"
    },
    {
     "data": {
      "image/png": "[encoded data removed]",
      "text/plain": [
       "<Figure size 432x288 with 1 Axes>"
      ]
     },
     "metadata": {
      "needs_background": "light"
     },
     "output_type": "display_data"
    }
   ],
   "source": [
    "plt.scatter(X[1], y)\n",
    "plt.plot(X[1], 35*np.ones(10) + X[1]*5)\n",
    "plt.plot(X[1], 40*np.ones(10) + X[1]*7.5)\n",
    "plt.plot(X[1], W[0] + W[1] * X[1])"
   ]
  },
  {
   "cell_type": "code",
   "execution_count": 19,
   "metadata": {
    "colab": {},
    "colab_type": "code",
    "id": "JTSC2cFnCd8T"
   },
   "outputs": [],
   "source": [
    "def calc_mse(y, y_pred):\n",
    "  err = np.mean((y - y_pred)**2)\n",
    "  return err"
   ]
  },
  {
   "cell_type": "code",
   "execution_count": 20,
   "metadata": {
    "colab": {
     "base_uri": "https://localhost:8080/",
     "height": 34
    },
    "colab_type": "code",
    "id": "MYSrwISJDGfS",
    "outputId": "891bfd3a-142c-466c-a9d9-7ebfb303e86c"
   },
   "outputs": [
    {
     "data": {
      "text/plain": [
       "143.6"
      ]
     },
     "execution_count": 20,
     "metadata": {},
     "output_type": "execute_result"
    }
   ],
   "source": [
    "calc_mse(y, y_pred1)"
   ]
  },
  {
   "cell_type": "code",
   "execution_count": 21,
   "metadata": {
    "colab": {},
    "colab_type": "code",
    "id": "BoU7Rm_1DPQq"
   },
   "outputs": [],
   "source": [
    "def calc_mae(y, y_pred):\n",
    "  err = np.mean(np.abs(y - y_pred))\n",
    "  return err"
   ]
  },
  {
   "cell_type": "code",
   "execution_count": 22,
   "metadata": {
    "colab": {
     "base_uri": "https://localhost:8080/",
     "height": 34
    },
    "colab_type": "code",
    "id": "AaE_x_nCDW3x",
    "outputId": "74189131-5508-4ba0-a346-42b2ba6ef418"
   },
   "outputs": [
    {
     "data": {
      "text/plain": [
       "10.4"
      ]
     },
     "execution_count": 22,
     "metadata": {},
     "output_type": "execute_result"
    }
   ],
   "source": [
    "calc_mae(y, y_pred1)"
   ]
  },
  {
   "cell_type": "code",
   "execution_count": 23,
   "metadata": {
    "colab": {
     "base_uri": "https://localhost:8080/",
     "height": 50
    },
    "colab_type": "code",
    "id": "Yxo6vu3NDaTC",
    "outputId": "7e152226-fe88-4e14-ebee-1501abb61966"
   },
   "outputs": [
    {
     "data": {
      "text/plain": [
       "array([51.14285714, 51.14285714, 55.05357143, 51.14285714, 58.96428571,\n",
       "       47.23214286, 66.78571429, 86.33928571, 51.14285714, 55.05357143])"
      ]
     },
     "execution_count": 23,
     "metadata": {},
     "output_type": "execute_result"
    }
   ],
   "source": [
    "y_pred3 = W[0] + W[1] * X[1]\n",
    "y_pred3"
   ]
  },
  {
   "cell_type": "code",
   "execution_count": 24,
   "metadata": {
    "colab": {
     "base_uri": "https://localhost:8080/",
     "height": 34
    },
    "colab_type": "code",
    "id": "_WtO6lvhDmQ6",
    "outputId": "8de8b895-85d8-448e-f565-b70e93a5dd25"
   },
   "outputs": [
    {
     "data": {
      "text/plain": [
       "45.93749999999999"
      ]
     },
     "execution_count": 24,
     "metadata": {},
     "output_type": "execute_result"
    }
   ],
   "source": [
    "calc_mse(y, y_pred3)"
   ]
  },
  {
   "cell_type": "code",
   "execution_count": 25,
   "metadata": {
    "colab": {
     "base_uri": "https://localhost:8080/",
     "height": 34
    },
    "colab_type": "code",
    "id": "ul3IEwWlDp-e",
    "outputId": "7567da7c-ce56-4eaa-8c90-9979ca755b4d"
   },
   "outputs": [
    {
     "data": {
      "text/plain": [
       "6.182142857142858"
      ]
     },
     "execution_count": 25,
     "metadata": {},
     "output_type": "execute_result"
    }
   ],
   "source": [
    "calc_mae(y, y_pred3)"
   ]
  },
  {
   "cell_type": "markdown",
   "metadata": {
    "colab_type": "text",
    "id": "JAOgIXLRa--g"
   },
   "source": [
    "Градиентный спуск"
   ]
  },
  {
   "cell_type": "code",
   "execution_count": 26,
   "metadata": {
    "colab": {},
    "colab_type": "code",
    "id": "DNebwUP7Fd8F"
   },
   "outputs": [],
   "source": [
    "n = 10\n",
    "f = 1/n * np.sum((W[0] * X[0] - y)**2)"
   ]
  },
  {
   "cell_type": "code",
   "execution_count": 27,
   "metadata": {
    "colab": {},
    "colab_type": "code",
    "id": "5DKkvmkwHdOx"
   },
   "outputs": [],
   "source": [
    "alpha = 1e-8\n",
    "g = alpha * (1/n * 2 * np.sum(X[0] * (W[0] * X[0] - y)))"
   ]
  },
  {
   "cell_type": "code",
   "execution_count": 28,
   "metadata": {
    "colab": {
     "base_uri": "https://localhost:8080/",
     "height": 34
    },
    "colab_type": "code",
    "id": "ZVRCF5P2MYI6",
    "outputId": "0b0e2f05-a23c-4bf8-f37d-b4240d2e0af0"
   },
   "outputs": [
    {
     "data": {
      "text/plain": [
       "47.232143060499986"
      ]
     },
     "execution_count": 28,
     "metadata": {},
     "output_type": "execute_result"
    }
   ],
   "source": [
    "W[0] - g\n"
   ]
  },
  {
   "cell_type": "markdown",
   "metadata": {},
   "source": [
    "#### Homework"
   ]
  },
  {
   "cell_type": "markdown",
   "metadata": {
    "colab_type": "text",
    "id": "huXrhXQsZTMt"
   },
   "source": [
    "1. Подберите скорость обучения (alpha) и количество итераций:"
   ]
  },
  {
   "cell_type": "code",
   "execution_count": 29,
   "metadata": {
    "colab": {
     "base_uri": "https://localhost:8080/",
     "height": 34
    },
    "colab_type": "code",
    "id": "VEXjDozNHdAo",
    "outputId": "7d12bb79-21b7-43fb-fd8e-d116a2af3bb7"
   },
   "outputs": [
    {
     "data": {
      "text/plain": [
       "(array([1. , 0.5]), 0.0001)"
      ]
     },
     "execution_count": 29,
     "metadata": {},
     "output_type": "execute_result"
    }
   ],
   "source": [
    "n = X.shape[1]\n",
    "alpha = 1e-4\n",
    "W = np.array([1, 0.5])\n",
    "W, alpha"
   ]
  },
  {
   "cell_type": "code",
   "execution_count": 30,
   "metadata": {
    "colab": {
     "base_uri": "https://localhost:8080/",
     "height": 185
    },
    "colab_type": "code",
    "id": "IDB22MQKMYaJ",
    "outputId": "4c03219e-a57c-4583-f439-6699fd0619bb"
   },
   "outputs": [
    {
     "name": "stdout",
     "output_type": "stream",
     "text": [
      "Iter: 0, Weight: [1.01102 0.534  ]. MSE: 3173.15)\n",
      "Iter: 100, Weight: [2.02168794 3.452835  ]. MSE: 2207.6942101483005)\n",
      "Iter: 200, Weight: [2.88306663 5.58962851]. MSE: 1670.7027004086372)\n",
      "Iter: 300, Weight: [3.63289519 7.14848061]. MSE: 1368.0832412796256)\n",
      "Iter: 400, Weight: [4.29908617 8.28027926]. MSE: 1193.7493344933293)\n",
      "Iter: 500, Weight: [4.90228732 9.09657298]. MSE: 1089.714750358689)\n",
      "Iter: 600, Weight: [5.45777535 9.67982684]. MSE: 1024.2828984889416)\n",
      "Iter: 700, Weight: [ 5.97685612 10.0910047 ]. MSE: 980.1260644155933)\n",
      "Iter: 800, Weight: [ 6.46789973 10.37517467]. MSE: 947.770026039189)\n",
      "Iter: 900, Weight: [ 6.93710574 10.56565326]. MSE: 922.0330206910179)\n"
     ]
    }
   ],
   "source": [
    "for i in range(1000):\n",
    "  y_pred = np.dot(W, X)\n",
    "  err = calc_mse(y, y_pred)\n",
    "  for ii in range(W.shape[0]):\n",
    "    W[ii] -= alpha * (1/n * 2 * np.sum(X[ii] * (y_pred - y)))\n",
    "  if i % 100 == 0:\n",
    "    print(\"Iter: {}, Weight: {}. MSE: {})\".format(i, W, err))"
   ]
  },
  {
   "cell_type": "code",
   "execution_count": 31,
   "metadata": {},
   "outputs": [],
   "source": [
    "def grad_des(alpha, iters, W):\n",
    "    \"\"\"Gradient descent function\"\"\" \n",
    "    n = X.shape[1]\n",
    "    err = 1000000\n",
    "    for i in range(iters):\n",
    "        y_pred = np.dot(W, X)\n",
    "        err_n = calc_mse(y, y_pred)\n",
    "        if err_n < err:\n",
    "            err = err_n\n",
    "            for j in range(W.shape[0]):\n",
    "                W[j] -= alpha * (1/n * 2 * np.sum(X[j] * (y_pred - y))) \n",
    "        else:\n",
    "            return i-1, W, err\n",
    "    return i, W, err"
   ]
  },
  {
   "cell_type": "code",
   "execution_count": 32,
   "metadata": {},
   "outputs": [
    {
     "name": "stdout",
     "output_type": "stream",
     "text": [
      "Alpha: 0.05, Iter: 100.0, Error: 45.964314596488876\n",
      "Alpha: 0.05, Iter: 1000.0, Error: 45.937500000000114\n",
      "Alpha: 0.05, Iter: 10000.0, Error: 45.937500000000114\n",
      "Alpha: 0.05, Iter: 100000.0, Error: 45.937500000000114\n",
      "Alpha: 0.01, Iter: 100.0, Error: 177.92494760058068\n",
      "Alpha: 0.01, Iter: 1000.0, Error: 45.937500890645076\n",
      "Alpha: 0.01, Iter: 10000.0, Error: 45.93750000000112\n",
      "Alpha: 0.01, Iter: 100000.0, Error: 45.93750000000112\n",
      "Alpha: 0.005, Iter: 100.0, Error: 418.41707209650224\n",
      "Alpha: 0.005, Iter: 1000.0, Error: 45.96885911973595\n",
      "Alpha: 0.005, Iter: 10000.0, Error: 45.937500000002316\n",
      "Alpha: 0.005, Iter: 100000.0, Error: 45.937500000002316\n",
      "Alpha: 0.001, Iter: 100.0, Error: 901.6552358714531\n",
      "Alpha: 0.001, Iter: 1000.0, Error: 176.7399358190342\n",
      "Alpha: 0.001, Iter: 10000.0, Error: 45.93750096407864\n",
      "Alpha: 0.001, Iter: 100000.0, Error: 45.93750000001437\n",
      "Minimal error is 45.937500000000114, when coefficient is [0.05, 1000.0]\n"
     ]
    }
   ],
   "source": [
    "err_min = 1000000\n",
    "coef_min = []\n",
    "\n",
    "for alpha in (5*1e-2, 1e-2, 5*1e-3, 1e-3):\n",
    "    for iters in (1e2, 1e3, 1e4, 1e5):\n",
    "        W = np.array([1, 0.5])\n",
    "        n, wi, err = grad_des(alpha, int(iters), W)\n",
    "        print('Alpha: {}, Iter: {}, Error: {}'.format(alpha, iters, err))\n",
    "        if err < err_min:\n",
    "            err_min = err\n",
    "            coef_min = [alpha, iters]\n",
    "print(\"Minimal error is {}, when coefficient is {}\".format(err_min, coef_min))"
   ]
  },
  {
   "cell_type": "markdown",
   "metadata": {
    "colab_type": "text",
    "id": "5Qu1o4JhZYwI"
   },
   "source": [
    "*2. В этом коде мы избавляемся от итераций по весам, но тут есть ошибка, исправьте ее:"
   ]
  },
  {
   "cell_type": "code",
   "execution_count": 33,
   "metadata": {
    "colab": {
     "base_uri": "https://localhost:8080/",
     "height": 185
    },
    "colab_type": "code",
    "id": "WZZzDCQLY4pA",
    "outputId": "28f58ade-72f2-4381-809d-2417752d56e4"
   },
   "outputs": [
    {
     "name": "stdout",
     "output_type": "stream",
     "text": [
      "0 [47.23213769  3.91071524] 45.93750000001437\n",
      "100 [47.23213769  3.91071524] 45.937500000014346\n",
      "200 [47.23213769  3.91071524] 45.93750000001437\n",
      "300 [47.23213769  3.91071524] 45.93750000001437\n",
      "400 [47.23213769  3.91071524] 45.93750000001434\n",
      "500 [47.23213769  3.91071524] 45.93750000001434\n",
      "600 [47.23213769  3.91071524] 45.93750000001435\n",
      "700 [47.23213769  3.91071524] 45.93750000001434\n",
      "800 [47.23213769  3.91071524] 45.93750000001436\n",
      "900 [47.23213769  3.91071524] 45.93750000001433\n"
     ]
    }
   ],
   "source": [
    "for i in range(1000):\n",
    "  y_pred = np.dot(W, X)\n",
    "  err = calc_mse(y, y_pred)\n",
    "  '''for ii in range(W.shape[0]):\n",
    "    W[ii] -= alpha * (1/n * 2 * np.sum(X[ii] * (y_pred - y)))'''\n",
    "  W -= (alpha * (1/n * 2 * np.sum(X * (y_pred - y))))\n",
    "  if i % 100 == 0:\n",
    "    print(i, W, err)"
   ]
  },
  {
   "cell_type": "code",
   "execution_count": 34,
   "metadata": {
    "colab": {},
    "colab_type": "code",
    "id": "_OQ4arrXMYGb"
   },
   "outputs": [
    {
     "name": "stdout",
     "output_type": "stream",
     "text": [
      "Iter: 100, Weight: [4.71884428 4.21884428], Error: 1795.372786768742\n",
      "Iter: 200, Weight: [7.1402917 6.6402917], Error: 1196.8339637692059\n",
      "Iter: 300, Weight: [8.73628737 8.23628737], Error: 936.8146230533869\n",
      "Iter: 400, Weight: [9.78822107 9.28822107], Error: 823.8561064989115\n",
      "Iter: 500, Weight: [10.48155912  9.98155912], Error: 774.7842704306371\n",
      "Iter: 600, Weight: [10.93854386 10.43854386], Error: 753.4663108064917\n",
      "Iter: 700, Weight: [11.23974622 10.73974622], Error: 744.2052878053473\n",
      "Iter: 800, Weight: [11.43827114 10.93827114], Error: 740.1820816195831\n",
      "Iter: 900, Weight: [11.56912052 11.06912052], Error: 738.4343062376228\n"
     ]
    }
   ],
   "source": [
    "n = X.shape[1]\n",
    "alpha = 1e-4\n",
    "W = np.array([1, 0.5])\n",
    "W, alpha\n",
    "\n",
    "e = 0.001\n",
    "last_err = None\n",
    "\n",
    "for i in range(1000):\n",
    "    y_pred = np.dot(W, X)\n",
    "    err = calc_mse(y, y_pred)\n",
    "    W -= alpha * (1/n * 2 * np.sum(X * (y_pred - y)))\n",
    "    \n",
    "    if last_err == None:\n",
    "        last_err = err\n",
    "        continue\n",
    "\n",
    "    elif i % 100 == 0:\n",
    "        print('Iter: {}, Weight: {}, Error: {}'.format(i, W, err))\n",
    "    \n",
    "    elif last_err - err <= e:\n",
    "        print('Iters: {}, Weight: {}, Error on this iter: {},  Obs_error: {}'.format(i, W, err, e))\n",
    "        break\n",
    "\n",
    "    last_err = err"
   ]
  },
  {
   "cell_type": "markdown",
   "metadata": {
    "colab": {},
    "colab_type": "code",
    "id": "kGLyytFgHdco"
   },
   "source": [
    "#### Задание *3: вместо того, чтобы задавать количество итераций, задайте условие остановки алгоритма - когда ошибка за итерацию начинает изменяться ниже определенного порога (упрощенный аналог параметра tol в линейной регрессии в sklearn)."
   ]
  },
  {
   "cell_type": "code",
   "execution_count": 35,
   "metadata": {},
   "outputs": [
    {
     "name": "stdout",
     "output_type": "stream",
     "text": [
      "Iter: 45992, Weight: [46.93314367  3.96592677], Error: 45.98557328331509\n"
     ]
    }
   ],
   "source": [
    "err_min = 1e9\n",
    "err = 1e6\n",
    "delta = 1e-5\n",
    "i = 0\n",
    "while err_min - err > delta:\n",
    "    y_pred = np.dot(W, X)\n",
    "    err, err_min = calc_mse(y, y_pred), err\n",
    "    W -= (alpha * (1/n * 2 * np.sum(X * (y_pred - y), axis=1)))\n",
    "    i += 1\n",
    "print('Iter: {}, Weight: {}, Error: {}'.format(i, W, err))"
   ]
  },
  {
   "cell_type": "code",
   "execution_count": null,
   "metadata": {},
   "outputs": [],
   "source": []
  }
 ],
 "metadata": {
  "colab": {
   "collapsed_sections": [],
   "name": "Lesson1.ipynb",
   "provenance": []
  },
  "kernelspec": {
   "display_name": "Python 3",
   "language": "python",
   "name": "python3"
  },
  "language_info": {
   "codemirror_mode": {
    "name": "ipython",
    "version": 3
   },
   "file_extension": ".py",
   "mimetype": "text/x-python",
   "name": "python",
   "nbconvert_exporter": "python",
   "pygments_lexer": "ipython3",
   "version": "3.7.4"
  }
 },
 "nbformat": 4,
 "nbformat_minor": 1
}
